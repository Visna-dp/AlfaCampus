{
  "nbformat": 4,
  "nbformat_minor": 0,
  "metadata": {
    "colab": {
      "provenance": [],
      "gpuType": "T4"
    },
    "kernelspec": {
      "name": "python3",
      "display_name": "Python 3"
    },
    "language_info": {
      "name": "python"
    },
    "accelerator": "GPU"
  },
  "cells": [
    {
      "cell_type": "markdown",
      "source": [
        "# ALFABANK CAMPUS\n",
        "\n",
        "# Card transactions prediction\n",
        "\n",
        "Дарья Сергеева (telegram @visna_dp)"
      ],
      "metadata": {
        "id": "FqYvSh0Mrb15"
      }
    },
    {
      "cell_type": "markdown",
      "source": [
        "## Описание задачи\n",
        "Требуется предсказать следующие 10 транзакций клиента (MCC-коды) на основании списка его предыдущих транзакций. Результат оценивается по метрике map@10.\n",
        "\n",
        "https://www.kaggle.com/competitions/alfabank-campus/overview"
      ],
      "metadata": {
        "id": "HEx5lkwRqQpi"
      }
    },
    {
      "cell_type": "markdown",
      "source": [
        "## Библиотеки"
      ],
      "metadata": {
        "id": "G1pDGGQyJdcj"
      }
    },
    {
      "cell_type": "code",
      "source": [
        "import numpy as np\n",
        "import pandas as pd\n",
        "from collections import Counter\n",
        "\n",
        "from tensorflow.keras.models import Sequential\n",
        "from tensorflow.keras.layers import Dense, Embedding, LSTM, SpatialDropout1D\n",
        "from tensorflow.keras import utils\n",
        "from tensorflow.keras.preprocessing.sequence import pad_sequences\n",
        "from tensorflow.keras.preprocessing.text import Tokenizer\n",
        "from tensorflow.keras.callbacks import ModelCheckpoint\n",
        "from tensorflow.keras.models import load_model\n",
        "\n",
        "import warnings\n",
        "warnings.filterwarnings(\"ignore\")"
      ],
      "metadata": {
        "id": "sowyIe67WCJZ"
      },
      "execution_count": null,
      "outputs": []
    },
    {
      "cell_type": "code",
      "source": [
        "#GPU count and name\n",
        "!nvidia-smi -L"
      ],
      "metadata": {
        "colab": {
          "base_uri": "https://localhost:8080/"
        },
        "id": "uzpPuL9FWkV1",
        "outputId": "05d3225c-cbbf-4880-c9d7-f09c85b8e00a"
      },
      "execution_count": null,
      "outputs": [
        {
          "output_type": "stream",
          "name": "stdout",
          "text": [
            "GPU 0: Tesla T4 (UUID: GPU-836903c1-b042-272b-e3b2-b6b6856cba37)\n"
          ]
        }
      ]
    },
    {
      "cell_type": "code",
      "source": [
        "# Подключаем google диск, где у нас хранятся данные\n",
        "from google.colab import drive\n",
        "drive.mount('/content/drive', force_remount=True)"
      ],
      "metadata": {
        "colab": {
          "base_uri": "https://localhost:8080/"
        },
        "id": "Shtxe7PFYWL8",
        "outputId": "486b7935-344d-456c-f9ae-df1993a71c96"
      },
      "execution_count": null,
      "outputs": [
        {
          "output_type": "stream",
          "name": "stdout",
          "text": [
            "Mounted at /content/drive\n"
          ]
        }
      ]
    },
    {
      "cell_type": "markdown",
      "source": [
        "## Функции"
      ],
      "metadata": {
        "id": "SbC4mPJoJh2J"
      }
    },
    {
      "cell_type": "code",
      "execution_count": null,
      "metadata": {
        "id": "G5u1ua5KUpz7"
      },
      "outputs": [],
      "source": [
        "# функция расчета метрики map@k\n",
        "# https://github.com/benhamner/Metrics/blob/master/Python/ml_metrics/average_precision.py\n",
        "def apk(actual, predicted, k=10):\n",
        "    if len(predicted) > k:\n",
        "        predicted = predicted[:k]\n",
        "\n",
        "    score = 0.0\n",
        "    num_hits = 0.0\n",
        "\n",
        "    for i, p in enumerate(predicted):\n",
        "        if p in actual and p not in predicted[:i]:\n",
        "            num_hits += 1.0\n",
        "            score += num_hits / (i+1.0)\n",
        "\n",
        "    if not actual:\n",
        "        return 0.0\n",
        "\n",
        "    return score / min(len(actual), k)\n",
        "\n",
        "def mapk(actual, predicted, k=10):\n",
        "    return np.mean([apk(a, p, k) for a, p in zip(actual, predicted)])\n"
      ]
    },
    {
      "cell_type": "markdown",
      "source": [
        "## Загрузка и предобработка данных"
      ],
      "metadata": {
        "id": "mgxkX6CfJ5Q-"
      }
    },
    {
      "cell_type": "code",
      "source": [
        "df_train = pd.read_csv('./drive/MyDrive/SF_DS/data_alfa/df_train.csv', sep=';')\n",
        "df_test = pd.read_csv('./drive/MyDrive/SF_DS/data_alfa/df_test.csv', sep=';')\n",
        "df_train.head()"
      ],
      "metadata": {
        "colab": {
          "base_uri": "https://localhost:8080/",
          "height": 206
        },
        "id": "1YwIAfGMUI8G",
        "outputId": "59b6288e-a145-4fa2-866a-a0deab188e03"
      },
      "execution_count": null,
      "outputs": [
        {
          "output_type": "execute_result",
          "data": {
            "text/plain": [
              "   Id                                               Data  \\\n",
              "0   0  4814,4814,6010,6011,4814,6011,6011,4814,6011,6...   \n",
              "1   1  6011,6011,6011,6011,6011,6011,6011,4814,4814,4...   \n",
              "2   2  8021,6011,6011,6010,4829,4814,6011,6011,6011,6...   \n",
              "3   3  4814,6011,4814,4814,4814,6011,6011,5691,5691,5...   \n",
              "4   4  4814,4814,4814,4814,4814,4814,5946,4814,4814,6...   \n",
              "\n",
              "                                              Target  \n",
              "0  4814,4814,4814,4814,5411,4814,4814,4814,4814,4814  \n",
              "1  4814,6011,4814,6011,4814,4814,6011,4814,6011,4814  \n",
              "2  6011,6011,6010,4829,4829,6010,6011,6011,4814,6011  \n",
              "3  6011,6011,6010,6011,6011,4814,4814,6011,4814,4814  \n",
              "4  5499,6011,4814,4829,5200,5411,5499,5912,5411,5912  "
            ],
            "text/html": [
              "\n",
              "  <div id=\"df-22eeb8c5-9e4e-43ee-b802-74f0ec684b5c\" class=\"colab-df-container\">\n",
              "    <div>\n",
              "<style scoped>\n",
              "    .dataframe tbody tr th:only-of-type {\n",
              "        vertical-align: middle;\n",
              "    }\n",
              "\n",
              "    .dataframe tbody tr th {\n",
              "        vertical-align: top;\n",
              "    }\n",
              "\n",
              "    .dataframe thead th {\n",
              "        text-align: right;\n",
              "    }\n",
              "</style>\n",
              "<table border=\"1\" class=\"dataframe\">\n",
              "  <thead>\n",
              "    <tr style=\"text-align: right;\">\n",
              "      <th></th>\n",
              "      <th>Id</th>\n",
              "      <th>Data</th>\n",
              "      <th>Target</th>\n",
              "    </tr>\n",
              "  </thead>\n",
              "  <tbody>\n",
              "    <tr>\n",
              "      <th>0</th>\n",
              "      <td>0</td>\n",
              "      <td>4814,4814,6010,6011,4814,6011,6011,4814,6011,6...</td>\n",
              "      <td>4814,4814,4814,4814,5411,4814,4814,4814,4814,4814</td>\n",
              "    </tr>\n",
              "    <tr>\n",
              "      <th>1</th>\n",
              "      <td>1</td>\n",
              "      <td>6011,6011,6011,6011,6011,6011,6011,4814,4814,4...</td>\n",
              "      <td>4814,6011,4814,6011,4814,4814,6011,4814,6011,4814</td>\n",
              "    </tr>\n",
              "    <tr>\n",
              "      <th>2</th>\n",
              "      <td>2</td>\n",
              "      <td>8021,6011,6011,6010,4829,4814,6011,6011,6011,6...</td>\n",
              "      <td>6011,6011,6010,4829,4829,6010,6011,6011,4814,6011</td>\n",
              "    </tr>\n",
              "    <tr>\n",
              "      <th>3</th>\n",
              "      <td>3</td>\n",
              "      <td>4814,6011,4814,4814,4814,6011,6011,5691,5691,5...</td>\n",
              "      <td>6011,6011,6010,6011,6011,4814,4814,6011,4814,4814</td>\n",
              "    </tr>\n",
              "    <tr>\n",
              "      <th>4</th>\n",
              "      <td>4</td>\n",
              "      <td>4814,4814,4814,4814,4814,4814,5946,4814,4814,6...</td>\n",
              "      <td>5499,6011,4814,4829,5200,5411,5499,5912,5411,5912</td>\n",
              "    </tr>\n",
              "  </tbody>\n",
              "</table>\n",
              "</div>\n",
              "    <div class=\"colab-df-buttons\">\n",
              "\n",
              "  <div class=\"colab-df-container\">\n",
              "    <button class=\"colab-df-convert\" onclick=\"convertToInteractive('df-22eeb8c5-9e4e-43ee-b802-74f0ec684b5c')\"\n",
              "            title=\"Convert this dataframe to an interactive table.\"\n",
              "            style=\"display:none;\">\n",
              "\n",
              "  <svg xmlns=\"http://www.w3.org/2000/svg\" height=\"24px\" viewBox=\"0 -960 960 960\">\n",
              "    <path d=\"M120-120v-720h720v720H120Zm60-500h600v-160H180v160Zm220 220h160v-160H400v160Zm0 220h160v-160H400v160ZM180-400h160v-160H180v160Zm440 0h160v-160H620v160ZM180-180h160v-160H180v160Zm440 0h160v-160H620v160Z\"/>\n",
              "  </svg>\n",
              "    </button>\n",
              "\n",
              "  <style>\n",
              "    .colab-df-container {\n",
              "      display:flex;\n",
              "      gap: 12px;\n",
              "    }\n",
              "\n",
              "    .colab-df-convert {\n",
              "      background-color: #E8F0FE;\n",
              "      border: none;\n",
              "      border-radius: 50%;\n",
              "      cursor: pointer;\n",
              "      display: none;\n",
              "      fill: #1967D2;\n",
              "      height: 32px;\n",
              "      padding: 0 0 0 0;\n",
              "      width: 32px;\n",
              "    }\n",
              "\n",
              "    .colab-df-convert:hover {\n",
              "      background-color: #E2EBFA;\n",
              "      box-shadow: 0px 1px 2px rgba(60, 64, 67, 0.3), 0px 1px 3px 1px rgba(60, 64, 67, 0.15);\n",
              "      fill: #174EA6;\n",
              "    }\n",
              "\n",
              "    .colab-df-buttons div {\n",
              "      margin-bottom: 4px;\n",
              "    }\n",
              "\n",
              "    [theme=dark] .colab-df-convert {\n",
              "      background-color: #3B4455;\n",
              "      fill: #D2E3FC;\n",
              "    }\n",
              "\n",
              "    [theme=dark] .colab-df-convert:hover {\n",
              "      background-color: #434B5C;\n",
              "      box-shadow: 0px 1px 3px 1px rgba(0, 0, 0, 0.15);\n",
              "      filter: drop-shadow(0px 1px 2px rgba(0, 0, 0, 0.3));\n",
              "      fill: #FFFFFF;\n",
              "    }\n",
              "  </style>\n",
              "\n",
              "    <script>\n",
              "      const buttonEl =\n",
              "        document.querySelector('#df-22eeb8c5-9e4e-43ee-b802-74f0ec684b5c button.colab-df-convert');\n",
              "      buttonEl.style.display =\n",
              "        google.colab.kernel.accessAllowed ? 'block' : 'none';\n",
              "\n",
              "      async function convertToInteractive(key) {\n",
              "        const element = document.querySelector('#df-22eeb8c5-9e4e-43ee-b802-74f0ec684b5c');\n",
              "        const dataTable =\n",
              "          await google.colab.kernel.invokeFunction('convertToInteractive',\n",
              "                                                    [key], {});\n",
              "        if (!dataTable) return;\n",
              "\n",
              "        const docLinkHtml = 'Like what you see? Visit the ' +\n",
              "          '<a target=\"_blank\" href=https://colab.research.google.com/notebooks/data_table.ipynb>data table notebook</a>'\n",
              "          + ' to learn more about interactive tables.';\n",
              "        element.innerHTML = '';\n",
              "        dataTable['output_type'] = 'display_data';\n",
              "        await google.colab.output.renderOutput(dataTable, element);\n",
              "        const docLink = document.createElement('div');\n",
              "        docLink.innerHTML = docLinkHtml;\n",
              "        element.appendChild(docLink);\n",
              "      }\n",
              "    </script>\n",
              "  </div>\n",
              "\n",
              "\n",
              "<div id=\"df-09a74cf9-7f21-49eb-a1bd-a261b45fd24a\">\n",
              "  <button class=\"colab-df-quickchart\" onclick=\"quickchart('df-09a74cf9-7f21-49eb-a1bd-a261b45fd24a')\"\n",
              "            title=\"Suggest charts.\"\n",
              "            style=\"display:none;\">\n",
              "\n",
              "<svg xmlns=\"http://www.w3.org/2000/svg\" height=\"24px\"viewBox=\"0 0 24 24\"\n",
              "     width=\"24px\">\n",
              "    <g>\n",
              "        <path d=\"M19 3H5c-1.1 0-2 .9-2 2v14c0 1.1.9 2 2 2h14c1.1 0 2-.9 2-2V5c0-1.1-.9-2-2-2zM9 17H7v-7h2v7zm4 0h-2V7h2v10zm4 0h-2v-4h2v4z\"/>\n",
              "    </g>\n",
              "</svg>\n",
              "  </button>\n",
              "\n",
              "<style>\n",
              "  .colab-df-quickchart {\n",
              "      --bg-color: #E8F0FE;\n",
              "      --fill-color: #1967D2;\n",
              "      --hover-bg-color: #E2EBFA;\n",
              "      --hover-fill-color: #174EA6;\n",
              "      --disabled-fill-color: #AAA;\n",
              "      --disabled-bg-color: #DDD;\n",
              "  }\n",
              "\n",
              "  [theme=dark] .colab-df-quickchart {\n",
              "      --bg-color: #3B4455;\n",
              "      --fill-color: #D2E3FC;\n",
              "      --hover-bg-color: #434B5C;\n",
              "      --hover-fill-color: #FFFFFF;\n",
              "      --disabled-bg-color: #3B4455;\n",
              "      --disabled-fill-color: #666;\n",
              "  }\n",
              "\n",
              "  .colab-df-quickchart {\n",
              "    background-color: var(--bg-color);\n",
              "    border: none;\n",
              "    border-radius: 50%;\n",
              "    cursor: pointer;\n",
              "    display: none;\n",
              "    fill: var(--fill-color);\n",
              "    height: 32px;\n",
              "    padding: 0;\n",
              "    width: 32px;\n",
              "  }\n",
              "\n",
              "  .colab-df-quickchart:hover {\n",
              "    background-color: var(--hover-bg-color);\n",
              "    box-shadow: 0 1px 2px rgba(60, 64, 67, 0.3), 0 1px 3px 1px rgba(60, 64, 67, 0.15);\n",
              "    fill: var(--button-hover-fill-color);\n",
              "  }\n",
              "\n",
              "  .colab-df-quickchart-complete:disabled,\n",
              "  .colab-df-quickchart-complete:disabled:hover {\n",
              "    background-color: var(--disabled-bg-color);\n",
              "    fill: var(--disabled-fill-color);\n",
              "    box-shadow: none;\n",
              "  }\n",
              "\n",
              "  .colab-df-spinner {\n",
              "    border: 2px solid var(--fill-color);\n",
              "    border-color: transparent;\n",
              "    border-bottom-color: var(--fill-color);\n",
              "    animation:\n",
              "      spin 1s steps(1) infinite;\n",
              "  }\n",
              "\n",
              "  @keyframes spin {\n",
              "    0% {\n",
              "      border-color: transparent;\n",
              "      border-bottom-color: var(--fill-color);\n",
              "      border-left-color: var(--fill-color);\n",
              "    }\n",
              "    20% {\n",
              "      border-color: transparent;\n",
              "      border-left-color: var(--fill-color);\n",
              "      border-top-color: var(--fill-color);\n",
              "    }\n",
              "    30% {\n",
              "      border-color: transparent;\n",
              "      border-left-color: var(--fill-color);\n",
              "      border-top-color: var(--fill-color);\n",
              "      border-right-color: var(--fill-color);\n",
              "    }\n",
              "    40% {\n",
              "      border-color: transparent;\n",
              "      border-right-color: var(--fill-color);\n",
              "      border-top-color: var(--fill-color);\n",
              "    }\n",
              "    60% {\n",
              "      border-color: transparent;\n",
              "      border-right-color: var(--fill-color);\n",
              "    }\n",
              "    80% {\n",
              "      border-color: transparent;\n",
              "      border-right-color: var(--fill-color);\n",
              "      border-bottom-color: var(--fill-color);\n",
              "    }\n",
              "    90% {\n",
              "      border-color: transparent;\n",
              "      border-bottom-color: var(--fill-color);\n",
              "    }\n",
              "  }\n",
              "</style>\n",
              "\n",
              "  <script>\n",
              "    async function quickchart(key) {\n",
              "      const quickchartButtonEl =\n",
              "        document.querySelector('#' + key + ' button');\n",
              "      quickchartButtonEl.disabled = true;  // To prevent multiple clicks.\n",
              "      quickchartButtonEl.classList.add('colab-df-spinner');\n",
              "      try {\n",
              "        const charts = await google.colab.kernel.invokeFunction(\n",
              "            'suggestCharts', [key], {});\n",
              "      } catch (error) {\n",
              "        console.error('Error during call to suggestCharts:', error);\n",
              "      }\n",
              "      quickchartButtonEl.classList.remove('colab-df-spinner');\n",
              "      quickchartButtonEl.classList.add('colab-df-quickchart-complete');\n",
              "    }\n",
              "    (() => {\n",
              "      let quickchartButtonEl =\n",
              "        document.querySelector('#df-09a74cf9-7f21-49eb-a1bd-a261b45fd24a button');\n",
              "      quickchartButtonEl.style.display =\n",
              "        google.colab.kernel.accessAllowed ? 'block' : 'none';\n",
              "    })();\n",
              "  </script>\n",
              "</div>\n",
              "    </div>\n",
              "  </div>\n"
            ]
          },
          "metadata": {},
          "execution_count": 5
        }
      ]
    },
    {
      "cell_type": "code",
      "source": [
        "df_test.head()"
      ],
      "metadata": {
        "colab": {
          "base_uri": "https://localhost:8080/",
          "height": 206
        },
        "id": "0f4QtT8SKzCO",
        "outputId": "02e70429-f2bd-4579-f4c7-aac98d4b2e94"
      },
      "execution_count": null,
      "outputs": [
        {
          "output_type": "execute_result",
          "data": {
            "text/plain": [
              "   Id                                               Data\n",
              "0   0  4814,4814,6011,6011,6010,6011,6011,4814,6011,4...\n",
              "1   1  6010,6011,6010,5411,5411,5977,6011,6010,5411,6...\n",
              "2   2  4814,6011,5251,6011,7832,5641,5814,4829,5311,6...\n",
              "3   3  6011,4722,4722,4722,4814,6011,6011,4829,6011,6...\n",
              "4   4  4814,4814,4814,6011,4814,4814,4814,4814,4814,4..."
            ],
            "text/html": [
              "\n",
              "  <div id=\"df-1b3daa6a-0847-49e6-9932-bf0302346c57\" class=\"colab-df-container\">\n",
              "    <div>\n",
              "<style scoped>\n",
              "    .dataframe tbody tr th:only-of-type {\n",
              "        vertical-align: middle;\n",
              "    }\n",
              "\n",
              "    .dataframe tbody tr th {\n",
              "        vertical-align: top;\n",
              "    }\n",
              "\n",
              "    .dataframe thead th {\n",
              "        text-align: right;\n",
              "    }\n",
              "</style>\n",
              "<table border=\"1\" class=\"dataframe\">\n",
              "  <thead>\n",
              "    <tr style=\"text-align: right;\">\n",
              "      <th></th>\n",
              "      <th>Id</th>\n",
              "      <th>Data</th>\n",
              "    </tr>\n",
              "  </thead>\n",
              "  <tbody>\n",
              "    <tr>\n",
              "      <th>0</th>\n",
              "      <td>0</td>\n",
              "      <td>4814,4814,6011,6011,6010,6011,6011,4814,6011,4...</td>\n",
              "    </tr>\n",
              "    <tr>\n",
              "      <th>1</th>\n",
              "      <td>1</td>\n",
              "      <td>6010,6011,6010,5411,5411,5977,6011,6010,5411,6...</td>\n",
              "    </tr>\n",
              "    <tr>\n",
              "      <th>2</th>\n",
              "      <td>2</td>\n",
              "      <td>4814,6011,5251,6011,7832,5641,5814,4829,5311,6...</td>\n",
              "    </tr>\n",
              "    <tr>\n",
              "      <th>3</th>\n",
              "      <td>3</td>\n",
              "      <td>6011,4722,4722,4722,4814,6011,6011,4829,6011,6...</td>\n",
              "    </tr>\n",
              "    <tr>\n",
              "      <th>4</th>\n",
              "      <td>4</td>\n",
              "      <td>4814,4814,4814,6011,4814,4814,4814,4814,4814,4...</td>\n",
              "    </tr>\n",
              "  </tbody>\n",
              "</table>\n",
              "</div>\n",
              "    <div class=\"colab-df-buttons\">\n",
              "\n",
              "  <div class=\"colab-df-container\">\n",
              "    <button class=\"colab-df-convert\" onclick=\"convertToInteractive('df-1b3daa6a-0847-49e6-9932-bf0302346c57')\"\n",
              "            title=\"Convert this dataframe to an interactive table.\"\n",
              "            style=\"display:none;\">\n",
              "\n",
              "  <svg xmlns=\"http://www.w3.org/2000/svg\" height=\"24px\" viewBox=\"0 -960 960 960\">\n",
              "    <path d=\"M120-120v-720h720v720H120Zm60-500h600v-160H180v160Zm220 220h160v-160H400v160Zm0 220h160v-160H400v160ZM180-400h160v-160H180v160Zm440 0h160v-160H620v160ZM180-180h160v-160H180v160Zm440 0h160v-160H620v160Z\"/>\n",
              "  </svg>\n",
              "    </button>\n",
              "\n",
              "  <style>\n",
              "    .colab-df-container {\n",
              "      display:flex;\n",
              "      gap: 12px;\n",
              "    }\n",
              "\n",
              "    .colab-df-convert {\n",
              "      background-color: #E8F0FE;\n",
              "      border: none;\n",
              "      border-radius: 50%;\n",
              "      cursor: pointer;\n",
              "      display: none;\n",
              "      fill: #1967D2;\n",
              "      height: 32px;\n",
              "      padding: 0 0 0 0;\n",
              "      width: 32px;\n",
              "    }\n",
              "\n",
              "    .colab-df-convert:hover {\n",
              "      background-color: #E2EBFA;\n",
              "      box-shadow: 0px 1px 2px rgba(60, 64, 67, 0.3), 0px 1px 3px 1px rgba(60, 64, 67, 0.15);\n",
              "      fill: #174EA6;\n",
              "    }\n",
              "\n",
              "    .colab-df-buttons div {\n",
              "      margin-bottom: 4px;\n",
              "    }\n",
              "\n",
              "    [theme=dark] .colab-df-convert {\n",
              "      background-color: #3B4455;\n",
              "      fill: #D2E3FC;\n",
              "    }\n",
              "\n",
              "    [theme=dark] .colab-df-convert:hover {\n",
              "      background-color: #434B5C;\n",
              "      box-shadow: 0px 1px 3px 1px rgba(0, 0, 0, 0.15);\n",
              "      filter: drop-shadow(0px 1px 2px rgba(0, 0, 0, 0.3));\n",
              "      fill: #FFFFFF;\n",
              "    }\n",
              "  </style>\n",
              "\n",
              "    <script>\n",
              "      const buttonEl =\n",
              "        document.querySelector('#df-1b3daa6a-0847-49e6-9932-bf0302346c57 button.colab-df-convert');\n",
              "      buttonEl.style.display =\n",
              "        google.colab.kernel.accessAllowed ? 'block' : 'none';\n",
              "\n",
              "      async function convertToInteractive(key) {\n",
              "        const element = document.querySelector('#df-1b3daa6a-0847-49e6-9932-bf0302346c57');\n",
              "        const dataTable =\n",
              "          await google.colab.kernel.invokeFunction('convertToInteractive',\n",
              "                                                    [key], {});\n",
              "        if (!dataTable) return;\n",
              "\n",
              "        const docLinkHtml = 'Like what you see? Visit the ' +\n",
              "          '<a target=\"_blank\" href=https://colab.research.google.com/notebooks/data_table.ipynb>data table notebook</a>'\n",
              "          + ' to learn more about interactive tables.';\n",
              "        element.innerHTML = '';\n",
              "        dataTable['output_type'] = 'display_data';\n",
              "        await google.colab.output.renderOutput(dataTable, element);\n",
              "        const docLink = document.createElement('div');\n",
              "        docLink.innerHTML = docLinkHtml;\n",
              "        element.appendChild(docLink);\n",
              "      }\n",
              "    </script>\n",
              "  </div>\n",
              "\n",
              "\n",
              "<div id=\"df-3e836706-cb6a-4a4d-b743-1a1814717fad\">\n",
              "  <button class=\"colab-df-quickchart\" onclick=\"quickchart('df-3e836706-cb6a-4a4d-b743-1a1814717fad')\"\n",
              "            title=\"Suggest charts.\"\n",
              "            style=\"display:none;\">\n",
              "\n",
              "<svg xmlns=\"http://www.w3.org/2000/svg\" height=\"24px\"viewBox=\"0 0 24 24\"\n",
              "     width=\"24px\">\n",
              "    <g>\n",
              "        <path d=\"M19 3H5c-1.1 0-2 .9-2 2v14c0 1.1.9 2 2 2h14c1.1 0 2-.9 2-2V5c0-1.1-.9-2-2-2zM9 17H7v-7h2v7zm4 0h-2V7h2v10zm4 0h-2v-4h2v4z\"/>\n",
              "    </g>\n",
              "</svg>\n",
              "  </button>\n",
              "\n",
              "<style>\n",
              "  .colab-df-quickchart {\n",
              "      --bg-color: #E8F0FE;\n",
              "      --fill-color: #1967D2;\n",
              "      --hover-bg-color: #E2EBFA;\n",
              "      --hover-fill-color: #174EA6;\n",
              "      --disabled-fill-color: #AAA;\n",
              "      --disabled-bg-color: #DDD;\n",
              "  }\n",
              "\n",
              "  [theme=dark] .colab-df-quickchart {\n",
              "      --bg-color: #3B4455;\n",
              "      --fill-color: #D2E3FC;\n",
              "      --hover-bg-color: #434B5C;\n",
              "      --hover-fill-color: #FFFFFF;\n",
              "      --disabled-bg-color: #3B4455;\n",
              "      --disabled-fill-color: #666;\n",
              "  }\n",
              "\n",
              "  .colab-df-quickchart {\n",
              "    background-color: var(--bg-color);\n",
              "    border: none;\n",
              "    border-radius: 50%;\n",
              "    cursor: pointer;\n",
              "    display: none;\n",
              "    fill: var(--fill-color);\n",
              "    height: 32px;\n",
              "    padding: 0;\n",
              "    width: 32px;\n",
              "  }\n",
              "\n",
              "  .colab-df-quickchart:hover {\n",
              "    background-color: var(--hover-bg-color);\n",
              "    box-shadow: 0 1px 2px rgba(60, 64, 67, 0.3), 0 1px 3px 1px rgba(60, 64, 67, 0.15);\n",
              "    fill: var(--button-hover-fill-color);\n",
              "  }\n",
              "\n",
              "  .colab-df-quickchart-complete:disabled,\n",
              "  .colab-df-quickchart-complete:disabled:hover {\n",
              "    background-color: var(--disabled-bg-color);\n",
              "    fill: var(--disabled-fill-color);\n",
              "    box-shadow: none;\n",
              "  }\n",
              "\n",
              "  .colab-df-spinner {\n",
              "    border: 2px solid var(--fill-color);\n",
              "    border-color: transparent;\n",
              "    border-bottom-color: var(--fill-color);\n",
              "    animation:\n",
              "      spin 1s steps(1) infinite;\n",
              "  }\n",
              "\n",
              "  @keyframes spin {\n",
              "    0% {\n",
              "      border-color: transparent;\n",
              "      border-bottom-color: var(--fill-color);\n",
              "      border-left-color: var(--fill-color);\n",
              "    }\n",
              "    20% {\n",
              "      border-color: transparent;\n",
              "      border-left-color: var(--fill-color);\n",
              "      border-top-color: var(--fill-color);\n",
              "    }\n",
              "    30% {\n",
              "      border-color: transparent;\n",
              "      border-left-color: var(--fill-color);\n",
              "      border-top-color: var(--fill-color);\n",
              "      border-right-color: var(--fill-color);\n",
              "    }\n",
              "    40% {\n",
              "      border-color: transparent;\n",
              "      border-right-color: var(--fill-color);\n",
              "      border-top-color: var(--fill-color);\n",
              "    }\n",
              "    60% {\n",
              "      border-color: transparent;\n",
              "      border-right-color: var(--fill-color);\n",
              "    }\n",
              "    80% {\n",
              "      border-color: transparent;\n",
              "      border-right-color: var(--fill-color);\n",
              "      border-bottom-color: var(--fill-color);\n",
              "    }\n",
              "    90% {\n",
              "      border-color: transparent;\n",
              "      border-bottom-color: var(--fill-color);\n",
              "    }\n",
              "  }\n",
              "</style>\n",
              "\n",
              "  <script>\n",
              "    async function quickchart(key) {\n",
              "      const quickchartButtonEl =\n",
              "        document.querySelector('#' + key + ' button');\n",
              "      quickchartButtonEl.disabled = true;  // To prevent multiple clicks.\n",
              "      quickchartButtonEl.classList.add('colab-df-spinner');\n",
              "      try {\n",
              "        const charts = await google.colab.kernel.invokeFunction(\n",
              "            'suggestCharts', [key], {});\n",
              "      } catch (error) {\n",
              "        console.error('Error during call to suggestCharts:', error);\n",
              "      }\n",
              "      quickchartButtonEl.classList.remove('colab-df-spinner');\n",
              "      quickchartButtonEl.classList.add('colab-df-quickchart-complete');\n",
              "    }\n",
              "    (() => {\n",
              "      let quickchartButtonEl =\n",
              "        document.querySelector('#df-3e836706-cb6a-4a4d-b743-1a1814717fad button');\n",
              "      quickchartButtonEl.style.display =\n",
              "        google.colab.kernel.accessAllowed ? 'block' : 'none';\n",
              "    })();\n",
              "  </script>\n",
              "</div>\n",
              "    </div>\n",
              "  </div>\n"
            ]
          },
          "metadata": {},
          "execution_count": 6
        }
      ]
    },
    {
      "cell_type": "code",
      "source": [
        "# Преобразуем данные в список\n",
        "df_train['Data'] = df_train.Data.apply(lambda s: list(map(int, s.split(','))))\n",
        "df_train['Target'] = df_train.Target.apply(lambda s: list(map(int, s.split(','))))\n",
        "df_test['Data'] = df_test.Data.apply(lambda s: list(map(int, s.split(','))))"
      ],
      "metadata": {
        "id": "8OsJBkVJKKmb"
      },
      "execution_count": null,
      "outputs": []
    },
    {
      "cell_type": "code",
      "source": [
        "# Создадим признак для количества кодов в списке\n",
        "df_train['Count'] = df_train['Data'].apply(len)\n",
        "df_train['Count'].describe()"
      ],
      "metadata": {
        "colab": {
          "base_uri": "https://localhost:8080/"
        },
        "id": "pney5QdWKyGx",
        "outputId": "aed56029-316b-411e-ae24-b573a3dd40d9"
      },
      "execution_count": null,
      "outputs": [
        {
          "output_type": "execute_result",
          "data": {
            "text/plain": [
              "count     7033.000000\n",
              "mean       473.322906\n",
              "std        811.665063\n",
              "min         40.000000\n",
              "25%        180.000000\n",
              "50%        336.000000\n",
              "75%        570.000000\n",
              "max      21101.000000\n",
              "Name: Count, dtype: float64"
            ]
          },
          "metadata": {},
          "execution_count": 8
        }
      ]
    },
    {
      "cell_type": "code",
      "source": [
        "df_test['Count'] = df_test['Data'].apply(len)\n",
        "df_test['Count'].describe()"
      ],
      "metadata": {
        "colab": {
          "base_uri": "https://localhost:8080/"
        },
        "id": "nbD83XYALblT",
        "outputId": "d7f60dae-1ba2-43ae-81cb-c5e0e91e3739"
      },
      "execution_count": null,
      "outputs": [
        {
          "output_type": "execute_result",
          "data": {
            "text/plain": [
              "count     7033.000000\n",
              "mean       476.756150\n",
              "std       1341.916565\n",
              "min         40.000000\n",
              "25%        177.000000\n",
              "50%        344.000000\n",
              "75%        582.000000\n",
              "max      88771.000000\n",
              "Name: Count, dtype: float64"
            ]
          },
          "metadata": {},
          "execution_count": 9
        }
      ]
    },
    {
      "cell_type": "markdown",
      "source": [
        "Распределение длин последовательностей MCC примерно одинаковое для выборок train и test. Среднее значение около 475, минимальное 40."
      ],
      "metadata": {
        "id": "DMEC4ao7Lv4X"
      }
    },
    {
      "cell_type": "code",
      "source": [
        "# Обрежем данные до длины 500 и преобразуем в строку\n",
        "limit_tranc = 500\n",
        "df_train['Data_trunc'] = df_train['Data'].apply(\n",
        "    lambda x: x[-limit_tranc-1:-1] if len(x) > limit_tranc else x\n",
        ")\n",
        "df_test['Data_trunc'] = df_test['Data'].apply(\n",
        "    lambda x: x[-limit_tranc-1:-1] if len(x) > limit_tranc else x\n",
        ")\n",
        "df_train['Data_trunc'] = df_train['Data_trunc'].astype(str).str.replace(',', '')\n",
        "df_test['Data_trunc'] = df_test['Data_trunc'].astype(str).str.replace(',', '')"
      ],
      "metadata": {
        "id": "B1rECQiQRUdP"
      },
      "execution_count": null,
      "outputs": []
    },
    {
      "cell_type": "markdown",
      "source": [
        "## Модель RNN с LSTM"
      ],
      "metadata": {
        "id": "HAj6dOA-cvgM"
      }
    },
    {
      "cell_type": "code",
      "source": [
        "# Токенизация данных\n",
        "X_train = df_train['Data_trunc']\n",
        "tokenizer = Tokenizer()\n",
        "tokenizer.fit_on_texts(X_train)\n",
        "X_train_seq = tokenizer.texts_to_sequences(X_train)\n",
        "n_codes = len(tokenizer.word_index)\n",
        "print('Количество уникальных кодов MCC:', n_codes)"
      ],
      "metadata": {
        "colab": {
          "base_uri": "https://localhost:8080/"
        },
        "id": "dUgYN9S0ettW",
        "outputId": "e2dcc3c5-a45a-4a32-b21e-e5c7939bdab3"
      },
      "execution_count": null,
      "outputs": [
        {
          "output_type": "stream",
          "name": "stdout",
          "text": [
            "Количество уникальных кодов MCC: 184\n"
          ]
        }
      ]
    },
    {
      "cell_type": "code",
      "source": [
        "# Функция разбивает каждую последовательность кодов на 40 (feature) + 10 (target) со сдвигом\n",
        "def create_features_targets(X_seq, length_feature=40, length_target=10):\n",
        "    features = []\n",
        "    targets = []\n",
        "    for X in X_seq:\n",
        "        for i in range(0, len(X) - (length_feature + length_target)):\n",
        "            feature = X[i:i + length_feature]\n",
        "            target = X[i + length_feature:i + length_feature + length_target]\n",
        "            features.append(feature)\n",
        "            targets.append(target)\n",
        "    return features, targets"
      ],
      "metadata": {
        "id": "94LBlPAVdCN6"
      },
      "execution_count": null,
      "outputs": []
    },
    {
      "cell_type": "code",
      "source": [
        "# Функция для преобразования последовательности в вектор one hot\n",
        "def vectorize_sequences_oh(sequences, dimension):\n",
        "    results = np.zeros((len(sequences), dimension + 1))\n",
        "    for i, sequence in enumerate(sequences):\n",
        "        results[i, sequence] = 1.\n",
        "    return results"
      ],
      "metadata": {
        "id": "plqYOH4Gudys"
      },
      "execution_count": null,
      "outputs": []
    },
    {
      "cell_type": "code",
      "source": [
        "# Создадим список features (длиной 40) и targets (длиной 10) для обучения из train\n",
        "length = 40\n",
        "features, targets = create_features_targets(X_train_seq, length_feature=length)\n",
        "print(\"Общее количество последовательностей:\", len(targets))"
      ],
      "metadata": {
        "colab": {
          "base_uri": "https://localhost:8080/"
        },
        "id": "n48Z0TIZe3VQ",
        "outputId": "615a6551-119c-442a-ffe9-ac22299aa192"
      },
      "execution_count": null,
      "outputs": [
        {
          "output_type": "stream",
          "name": "stdout",
          "text": [
            "Общее количество последовательностей: 1934373\n"
          ]
        }
      ]
    },
    {
      "cell_type": "code",
      "source": [
        "X_train_pad = pad_sequences(features)\n",
        "X_train_pad.shape"
      ],
      "metadata": {
        "colab": {
          "base_uri": "https://localhost:8080/"
        },
        "id": "4Ir1rNYb5BBR",
        "outputId": "33f39796-d864-44f6-f856-4e74e769379e"
      },
      "execution_count": null,
      "outputs": [
        {
          "output_type": "execute_result",
          "data": {
            "text/plain": [
              "(1934373, 40)"
            ]
          },
          "metadata": {},
          "execution_count": 15
        }
      ]
    },
    {
      "cell_type": "code",
      "source": [
        "y_train_oh = vectorize_sequences_oh(targets, n_codes)\n",
        "y_train_oh.shape\n"
      ],
      "metadata": {
        "colab": {
          "base_uri": "https://localhost:8080/"
        },
        "id": "WMko6czUWuXE",
        "outputId": "51ff1622-5ca8-4dd6-9770-3835920830c5"
      },
      "execution_count": null,
      "outputs": [
        {
          "output_type": "execute_result",
          "data": {
            "text/plain": [
              "(1934373, 185)"
            ]
          },
          "metadata": {},
          "execution_count": 16
        }
      ]
    },
    {
      "cell_type": "code",
      "source": [
        "# создаем модель LSTM\n",
        "model_lstm = Sequential()\n",
        "model_lstm.add(Embedding(n_codes, 128, input_length=length))\n",
        "model_lstm.add(SpatialDropout1D(0.5))\n",
        "model_lstm.add(LSTM(40, return_sequences=True))\n",
        "model_lstm.add(LSTM(40))\n",
        "model_lstm.add(Dense(y_train_oh.shape[1], activation='sigmoid'))"
      ],
      "metadata": {
        "id": "WTe7PFRSi0fn"
      },
      "execution_count": null,
      "outputs": []
    },
    {
      "cell_type": "code",
      "source": [
        "model_lstm.compile(optimizer='adam',\n",
        "                  loss='binary_crossentropy',\n",
        "                  metrics=['accuracy', 'AUC'])"
      ],
      "metadata": {
        "id": "o8h6mkI9jfOl"
      },
      "execution_count": null,
      "outputs": []
    },
    {
      "cell_type": "code",
      "source": [
        "model_lstm.summary()"
      ],
      "metadata": {
        "colab": {
          "base_uri": "https://localhost:8080/"
        },
        "id": "adAXeo9pm-wF",
        "outputId": "abe5ba54-8c5d-4fa8-ad0a-5af7ef5f5deb"
      },
      "execution_count": null,
      "outputs": [
        {
          "output_type": "stream",
          "name": "stdout",
          "text": [
            "Model: \"sequential\"\n",
            "_________________________________________________________________\n",
            " Layer (type)                Output Shape              Param #   \n",
            "=================================================================\n",
            " embedding (Embedding)       (None, 40, 128)           23552     \n",
            "                                                                 \n",
            " spatial_dropout1d (Spatial  (None, 40, 128)           0         \n",
            " Dropout1D)                                                      \n",
            "                                                                 \n",
            " lstm (LSTM)                 (None, 40, 40)            27040     \n",
            "                                                                 \n",
            " lstm_1 (LSTM)               (None, 40)                12960     \n",
            "                                                                 \n",
            " dense (Dense)               (None, 185)               7585      \n",
            "                                                                 \n",
            "=================================================================\n",
            "Total params: 71137 (277.88 KB)\n",
            "Trainable params: 71137 (277.88 KB)\n",
            "Non-trainable params: 0 (0.00 Byte)\n",
            "_________________________________________________________________\n"
          ]
        }
      ]
    },
    {
      "cell_type": "code",
      "source": [
        "history_lstm = model_lstm.fit(X_train_pad,\n",
        "                              y_train_oh,\n",
        "                              epochs=20,\n",
        "                              batch_size=512,\n",
        "                              validation_split=0.2\n",
        "                              )"
      ],
      "metadata": {
        "colab": {
          "base_uri": "https://localhost:8080/"
        },
        "id": "KtCdo9ucnPfY",
        "outputId": "30f10998-a6cb-434c-bf81-07bc457d30b6"
      },
      "execution_count": null,
      "outputs": [
        {
          "output_type": "stream",
          "name": "stdout",
          "text": [
            "Epoch 1/20\n",
            "3023/3023 [==============================] - 53s 14ms/step - loss: 0.0666 - accuracy: 0.7960 - auc: 0.9430 - val_loss: 0.0586 - val_accuracy: 0.8092 - val_auc: 0.9524\n",
            "Epoch 2/20\n",
            "3023/3023 [==============================] - 34s 11ms/step - loss: 0.0582 - accuracy: 0.7972 - auc: 0.9533 - val_loss: 0.0561 - val_accuracy: 0.6431 - val_auc: 0.9585\n",
            "Epoch 3/20\n",
            "3023/3023 [==============================] - 37s 12ms/step - loss: 0.0504 - accuracy: 0.4699 - auc: 0.9638 - val_loss: 0.0485 - val_accuracy: 0.4745 - val_auc: 0.9653\n",
            "Epoch 4/20\n",
            "3023/3023 [==============================] - 38s 13ms/step - loss: 0.0474 - accuracy: 0.4428 - auc: 0.9670 - val_loss: 0.0474 - val_accuracy: 0.4400 - val_auc: 0.9672\n",
            "Epoch 5/20\n",
            "3023/3023 [==============================] - 38s 13ms/step - loss: 0.0466 - accuracy: 0.4353 - auc: 0.9680 - val_loss: 0.0470 - val_accuracy: 0.4149 - val_auc: 0.9670\n",
            "Epoch 6/20\n",
            "3023/3023 [==============================] - 38s 13ms/step - loss: 0.0462 - accuracy: 0.4331 - auc: 0.9686 - val_loss: 0.0468 - val_accuracy: 0.4298 - val_auc: 0.9670\n",
            "Epoch 7/20\n",
            "3023/3023 [==============================] - 38s 12ms/step - loss: 0.0460 - accuracy: 0.4308 - auc: 0.9690 - val_loss: 0.0466 - val_accuracy: 0.4540 - val_auc: 0.9680\n",
            "Epoch 8/20\n",
            "3023/3023 [==============================] - 35s 12ms/step - loss: 0.0458 - accuracy: 0.4302 - auc: 0.9693 - val_loss: 0.0466 - val_accuracy: 0.4330 - val_auc: 0.9678\n",
            "Epoch 9/20\n",
            "3023/3023 [==============================] - 39s 13ms/step - loss: 0.0457 - accuracy: 0.4301 - auc: 0.9694 - val_loss: 0.0465 - val_accuracy: 0.4324 - val_auc: 0.9676\n",
            "Epoch 10/20\n",
            "3023/3023 [==============================] - 38s 13ms/step - loss: 0.0456 - accuracy: 0.4290 - auc: 0.9696 - val_loss: 0.0464 - val_accuracy: 0.4576 - val_auc: 0.9678\n",
            "Epoch 11/20\n",
            "3023/3023 [==============================] - 37s 12ms/step - loss: 0.0455 - accuracy: 0.4287 - auc: 0.9698 - val_loss: 0.0464 - val_accuracy: 0.4405 - val_auc: 0.9682\n",
            "Epoch 12/20\n",
            "3023/3023 [==============================] - 37s 12ms/step - loss: 0.0455 - accuracy: 0.4283 - auc: 0.9699 - val_loss: 0.0464 - val_accuracy: 0.4528 - val_auc: 0.9677\n",
            "Epoch 13/20\n",
            "3023/3023 [==============================] - 36s 12ms/step - loss: 0.0454 - accuracy: 0.4279 - auc: 0.9700 - val_loss: 0.0464 - val_accuracy: 0.4581 - val_auc: 0.9678\n",
            "Epoch 14/20\n",
            "3023/3023 [==============================] - 38s 12ms/step - loss: 0.0454 - accuracy: 0.4272 - auc: 0.9701 - val_loss: 0.0463 - val_accuracy: 0.4334 - val_auc: 0.9679\n",
            "Epoch 15/20\n",
            "3023/3023 [==============================] - 38s 13ms/step - loss: 0.0453 - accuracy: 0.4269 - auc: 0.9702 - val_loss: 0.0463 - val_accuracy: 0.4445 - val_auc: 0.9680\n",
            "Epoch 16/20\n",
            "3023/3023 [==============================] - 39s 13ms/step - loss: 0.0453 - accuracy: 0.4264 - auc: 0.9702 - val_loss: 0.0463 - val_accuracy: 0.4122 - val_auc: 0.9682\n",
            "Epoch 17/20\n",
            "3023/3023 [==============================] - 38s 12ms/step - loss: 0.0452 - accuracy: 0.4267 - auc: 0.9703 - val_loss: 0.0463 - val_accuracy: 0.4548 - val_auc: 0.9681\n",
            "Epoch 18/20\n",
            "3023/3023 [==============================] - 35s 12ms/step - loss: 0.0452 - accuracy: 0.4262 - auc: 0.9704 - val_loss: 0.0463 - val_accuracy: 0.4327 - val_auc: 0.9681\n",
            "Epoch 19/20\n",
            "3023/3023 [==============================] - 38s 13ms/step - loss: 0.0452 - accuracy: 0.4267 - auc: 0.9704 - val_loss: 0.0463 - val_accuracy: 0.4409 - val_auc: 0.9683\n",
            "Epoch 20/20\n",
            "3023/3023 [==============================] - 39s 13ms/step - loss: 0.0451 - accuracy: 0.4258 - auc: 0.9705 - val_loss: 0.0463 - val_accuracy: 0.4404 - val_auc: 0.9680\n"
          ]
        }
      ]
    },
    {
      "cell_type": "code",
      "source": [
        "model_lstm.save('./drive/MyDrive/SF_DS/data_alfa/model_lstm.h5')"
      ],
      "metadata": {
        "id": "IfjIYVpeMYKM"
      },
      "execution_count": null,
      "outputs": []
    },
    {
      "cell_type": "code",
      "source": [
        "del X_train\n",
        "del X_train_pad\n",
        "del X_train_seq\n",
        "del features\n",
        "del targets\n",
        "del y_train_oh"
      ],
      "metadata": {
        "id": "Rzi7N-09XXwN"
      },
      "execution_count": null,
      "outputs": []
    },
    {
      "cell_type": "code",
      "source": [
        "# Загружаем обученную модель\n",
        "#model_lstm = load_model('./drive/MyDrive/SF_DS/data_alfa/model_lstm.h5')"
      ],
      "metadata": {
        "id": "tyEbT88EVm4b"
      },
      "execution_count": null,
      "outputs": []
    },
    {
      "cell_type": "code",
      "source": [
        "# Дообучим модель на данных из test\n",
        "length = 40\n",
        "X_test = df_test['Data_trunc']\n",
        "X_test_seq = tokenizer.texts_to_sequences(X_test)\n",
        "features, targets = create_features_targets(X_test_seq, length_feature=length)\n",
        "\n",
        "print(\"Общее количество последовательностей:\", len(targets))"
      ],
      "metadata": {
        "colab": {
          "base_uri": "https://localhost:8080/"
        },
        "outputId": "021b4b81-036d-4ec4-b7f0-a0b744af46e3",
        "id": "4N35gu6eVyCv"
      },
      "execution_count": null,
      "outputs": [
        {
          "output_type": "stream",
          "name": "stdout",
          "text": [
            "Общее количество последовательностей: 1943768\n"
          ]
        }
      ]
    },
    {
      "cell_type": "code",
      "source": [
        "X_test_pad = pad_sequences(features)\n",
        "X_test_pad.shape"
      ],
      "metadata": {
        "colab": {
          "base_uri": "https://localhost:8080/"
        },
        "outputId": "844efe14-808a-4235-c2ff-794f0e5a39c4",
        "id": "ewGjY6CnVyCv"
      },
      "execution_count": null,
      "outputs": [
        {
          "output_type": "execute_result",
          "data": {
            "text/plain": [
              "(1943768, 40)"
            ]
          },
          "metadata": {},
          "execution_count": 25
        }
      ]
    },
    {
      "cell_type": "code",
      "source": [
        "y_test_oh = vectorize_sequences_oh(targets, n_codes)\n",
        "y_test_oh.shape"
      ],
      "metadata": {
        "colab": {
          "base_uri": "https://localhost:8080/"
        },
        "outputId": "b9457376-ff1b-40bf-8bc6-3e1cd8b59072",
        "id": "PUW7h1PWVyCw"
      },
      "execution_count": null,
      "outputs": [
        {
          "output_type": "execute_result",
          "data": {
            "text/plain": [
              "(1943768, 185)"
            ]
          },
          "metadata": {},
          "execution_count": 26
        }
      ]
    },
    {
      "cell_type": "code",
      "source": [
        "history_lstm = model_lstm.fit(X_test_pad,\n",
        "                              y_test_oh,\n",
        "                              epochs=20,\n",
        "                              batch_size=512,\n",
        "                              validation_split=0.2\n",
        "                              )"
      ],
      "metadata": {
        "id": "g-0YtkReX7L6",
        "colab": {
          "base_uri": "https://localhost:8080/"
        },
        "outputId": "9b93b9a4-faf1-4bcc-dd34-c0fa898deaac"
      },
      "execution_count": null,
      "outputs": [
        {
          "output_type": "stream",
          "name": "stdout",
          "text": [
            "Epoch 1/20\n",
            "3038/3038 [==============================] - 37s 12ms/step - loss: 0.0460 - accuracy: 0.4301 - auc: 0.9688 - val_loss: 0.0470 - val_accuracy: 0.4445 - val_auc: 0.9680\n",
            "Epoch 2/20\n",
            "3038/3038 [==============================] - 35s 11ms/step - loss: 0.0457 - accuracy: 0.4311 - auc: 0.9694 - val_loss: 0.0470 - val_accuracy: 0.4135 - val_auc: 0.9683\n",
            "Epoch 3/20\n",
            "3038/3038 [==============================] - 37s 12ms/step - loss: 0.0456 - accuracy: 0.4312 - auc: 0.9697 - val_loss: 0.0470 - val_accuracy: 0.4005 - val_auc: 0.9678\n",
            "Epoch 4/20\n",
            "3038/3038 [==============================] - 36s 12ms/step - loss: 0.0455 - accuracy: 0.4314 - auc: 0.9698 - val_loss: 0.0470 - val_accuracy: 0.4267 - val_auc: 0.9677\n",
            "Epoch 5/20\n",
            "3038/3038 [==============================] - 34s 11ms/step - loss: 0.0454 - accuracy: 0.4314 - auc: 0.9700 - val_loss: 0.0470 - val_accuracy: 0.4412 - val_auc: 0.9678\n",
            "Epoch 6/20\n",
            "3038/3038 [==============================] - 37s 12ms/step - loss: 0.0454 - accuracy: 0.4313 - auc: 0.9701 - val_loss: 0.0470 - val_accuracy: 0.4196 - val_auc: 0.9680\n",
            "Epoch 7/20\n",
            "3038/3038 [==============================] - 37s 12ms/step - loss: 0.0453 - accuracy: 0.4314 - auc: 0.9701 - val_loss: 0.0470 - val_accuracy: 0.4249 - val_auc: 0.9673\n",
            "Epoch 8/20\n",
            "3038/3038 [==============================] - 34s 11ms/step - loss: 0.0453 - accuracy: 0.4312 - auc: 0.9702 - val_loss: 0.0470 - val_accuracy: 0.4318 - val_auc: 0.9681\n",
            "Epoch 9/20\n",
            "3038/3038 [==============================] - 37s 12ms/step - loss: 0.0453 - accuracy: 0.4312 - auc: 0.9703 - val_loss: 0.0470 - val_accuracy: 0.4321 - val_auc: 0.9678\n",
            "Epoch 10/20\n",
            "3038/3038 [==============================] - 38s 13ms/step - loss: 0.0453 - accuracy: 0.4307 - auc: 0.9703 - val_loss: 0.0470 - val_accuracy: 0.4440 - val_auc: 0.9678\n",
            "Epoch 11/20\n",
            "3038/3038 [==============================] - 35s 12ms/step - loss: 0.0452 - accuracy: 0.4313 - auc: 0.9704 - val_loss: 0.0470 - val_accuracy: 0.3966 - val_auc: 0.9676\n",
            "Epoch 12/20\n",
            "3038/3038 [==============================] - 36s 12ms/step - loss: 0.0452 - accuracy: 0.4308 - auc: 0.9705 - val_loss: 0.0470 - val_accuracy: 0.4077 - val_auc: 0.9675\n",
            "Epoch 13/20\n",
            "3038/3038 [==============================] - 37s 12ms/step - loss: 0.0452 - accuracy: 0.4308 - auc: 0.9705 - val_loss: 0.0471 - val_accuracy: 0.4121 - val_auc: 0.9676\n",
            "Epoch 14/20\n",
            "3038/3038 [==============================] - 37s 12ms/step - loss: 0.0452 - accuracy: 0.4305 - auc: 0.9705 - val_loss: 0.0471 - val_accuracy: 0.4241 - val_auc: 0.9674\n",
            "Epoch 15/20\n",
            "3038/3038 [==============================] - 35s 11ms/step - loss: 0.0451 - accuracy: 0.4305 - auc: 0.9706 - val_loss: 0.0470 - val_accuracy: 0.4131 - val_auc: 0.9676\n",
            "Epoch 16/20\n",
            "3038/3038 [==============================] - 35s 11ms/step - loss: 0.0451 - accuracy: 0.4303 - auc: 0.9706 - val_loss: 0.0471 - val_accuracy: 0.4274 - val_auc: 0.9673\n",
            "Epoch 17/20\n",
            "3038/3038 [==============================] - 36s 12ms/step - loss: 0.0451 - accuracy: 0.4301 - auc: 0.9707 - val_loss: 0.0470 - val_accuracy: 0.4349 - val_auc: 0.9675\n",
            "Epoch 18/20\n",
            "3038/3038 [==============================] - 34s 11ms/step - loss: 0.0451 - accuracy: 0.4302 - auc: 0.9707 - val_loss: 0.0471 - val_accuracy: 0.4154 - val_auc: 0.9676\n",
            "Epoch 19/20\n",
            "3038/3038 [==============================] - 35s 11ms/step - loss: 0.0451 - accuracy: 0.4300 - auc: 0.9707 - val_loss: 0.0470 - val_accuracy: 0.4305 - val_auc: 0.9677\n",
            "Epoch 20/20\n",
            "3038/3038 [==============================] - 40s 13ms/step - loss: 0.0451 - accuracy: 0.4302 - auc: 0.9707 - val_loss: 0.0471 - val_accuracy: 0.3960 - val_auc: 0.9673\n"
          ]
        }
      ]
    },
    {
      "cell_type": "code",
      "source": [
        "model_lstm.save('./drive/MyDrive/SF_DS/data_alfa/model_lstm.h5')"
      ],
      "metadata": {
        "id": "6kP5m3ClYOF6"
      },
      "execution_count": null,
      "outputs": []
    },
    {
      "cell_type": "code",
      "source": [
        "del X_test\n",
        "del X_test_pad\n",
        "del X_test_seq\n",
        "del features\n",
        "del targets\n",
        "del y_test_oh"
      ],
      "metadata": {
        "id": "QqCRWj-5fLDi"
      },
      "execution_count": null,
      "outputs": []
    },
    {
      "cell_type": "markdown",
      "source": [
        "## Оценка модели"
      ],
      "metadata": {
        "id": "hluu8I1zi694"
      }
    },
    {
      "cell_type": "code",
      "source": [
        "# Функция для предсказания 10 транзакций по убыванию вероятности\n",
        "def predict_next(X_seq):\n",
        "    y_pred = model_lstm.predict(X_seq)\n",
        "\n",
        "    # Создадим массив для хранения результатов\n",
        "    result = []\n",
        "\n",
        "    for i in range(y_pred.shape[0]):\n",
        "        # Отсортируем индексы по убыванию предсказанной вероятности\n",
        "        top_indices = list(np.argsort(-y_pred[i]))\n",
        "        # Возьмем первые 10 значений\n",
        "        top_indices = top_indices[:10]\n",
        "        result.append(top_indices)\n",
        "    return result"
      ],
      "metadata": {
        "id": "xyzZMJOmtSFn"
      },
      "execution_count": null,
      "outputs": []
    },
    {
      "cell_type": "code",
      "source": [
        "# Выделим 40 последних транзакций для предсказания\n",
        "df_train['Last'] = df_train['Data'].apply(\n",
        "    lambda x: x[-length-1:-1] if len(x) > length else x\n",
        ")\n",
        "df_train['Last'] = df_train['Last'].astype(str).str.replace(',', '')\n",
        "X_train = df_train['Last']\n",
        "X_train_seq = tokenizer.texts_to_sequences(X_train)"
      ],
      "metadata": {
        "id": "uctpnQyNh7HB"
      },
      "execution_count": null,
      "outputs": []
    },
    {
      "cell_type": "code",
      "source": [
        "# Делаем предсказание на train\n",
        "# Предсказываем последовательность уникальных кодов\n",
        "y_pred = predict_next(X_train_seq)\n",
        "y_pred = tokenizer.sequences_to_texts(y_pred)\n",
        "df_train['Predicted'] = y_pred\n",
        "df_train['Predicted'] = df_train.Predicted.apply(lambda s: list(map(int, s.split())))"
      ],
      "metadata": {
        "colab": {
          "base_uri": "https://localhost:8080/"
        },
        "id": "T2DNWRCPXzOF",
        "outputId": "d6348dbb-215a-4b4d-9d9f-1373265e6d0d"
      },
      "execution_count": null,
      "outputs": [
        {
          "output_type": "stream",
          "name": "stdout",
          "text": [
            "220/220 [==============================] - 1s 3ms/step\n",
            "220/220 [==============================] - 1s 4ms/step\n"
          ]
        }
      ]
    },
    {
      "cell_type": "code",
      "source": [
        "# Расчитываем метрику для предсказания Predicted\n",
        "mapk(df_train['Target'], df_train['Predicted'])"
      ],
      "metadata": {
        "colab": {
          "base_uri": "https://localhost:8080/"
        },
        "id": "lE2yaThkhnYb",
        "outputId": "886a72cb-dc38-4782-aabc-2e21ffafd425"
      },
      "execution_count": null,
      "outputs": [
        {
          "output_type": "execute_result",
          "data": {
            "text/plain": [
              "0.3332854017003739"
            ]
          },
          "metadata": {},
          "execution_count": 34
        }
      ]
    },
    {
      "cell_type": "markdown",
      "source": [
        "## Submission"
      ],
      "metadata": {
        "id": "FflRCwLUh9A6"
      }
    },
    {
      "cell_type": "code",
      "source": [
        "# Выделим последние 40 транзакций для предсказания на test\n",
        "df_test['Last'] = df_test['Data'].apply(\n",
        "    lambda x: x[-length-1:-1] if len(x) > length else x\n",
        ")\n",
        "df_test['Last'] = df_test['Last'].astype(str).str.replace(',', '')\n",
        "X_test = df_test['Last']\n",
        "X_test_seq = tokenizer.texts_to_sequences(X_test)"
      ],
      "metadata": {
        "id": "NrSVjfzPinyR"
      },
      "execution_count": null,
      "outputs": []
    },
    {
      "cell_type": "code",
      "source": [
        "# Предсказываем последовательность уникальных кодов\n",
        "y_pred = predict_next(X_test_seq)\n",
        "y_pred = tokenizer.sequences_to_texts(y_pred)\n",
        "df_test['Predicted'] = y_pred"
      ],
      "metadata": {
        "id": "rH1XBX3IinyT",
        "colab": {
          "base_uri": "https://localhost:8080/"
        },
        "outputId": "d6fc50a9-06a8-462e-f2bc-e4b43efd2cae"
      },
      "execution_count": null,
      "outputs": [
        {
          "output_type": "stream",
          "name": "stdout",
          "text": [
            "220/220 [==============================] - 1s 5ms/step\n",
            "220/220 [==============================] - 1s 3ms/step\n"
          ]
        }
      ]
    },
    {
      "cell_type": "code",
      "source": [
        "# Выгружаем submission уникальных кодов\n",
        "submission_rnn = df_test[['Id', 'Predicted']]\n",
        "submission_rnn.to_csv('submission_rnn.csv', index=False)\n"
      ],
      "metadata": {
        "id": "_YbrNWqdiEGn"
      },
      "execution_count": null,
      "outputs": []
    }
  ]
}